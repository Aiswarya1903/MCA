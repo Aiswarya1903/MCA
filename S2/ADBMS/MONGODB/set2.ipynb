{
 "cells": [
  {
   "cell_type": "code",
   "execution_count": 1,
   "id": "a2aa1742",
   "metadata": {},
   "outputs": [],
   "source": [
    "import pymongo\n",
    "conn=pymongo.MongoClient(\"mongodb://localhost:27017\")\n",
    "db=conn['exam1']\n",
    "col=db['xam1']"
   ]
  },
  {
   "cell_type": "code",
   "execution_count": 2,
   "id": "3f19d7f1",
   "metadata": {},
   "outputs": [
    {
     "data": {
      "text/plain": [
       "InsertManyResult([1, 2, 3, 4], acknowledged=True)"
      ]
     },
     "execution_count": 2,
     "metadata": {},
     "output_type": "execute_result"
    }
   ],
   "source": [
    "values=[{\"_id\":1,\"Name\":\"Anjali\",\"Place\":\"tvm\",\"Gender\":\"female\",\"Mark\":85,\"Activity_point\":90,\"Department\":\"MCA\"},\n",
    "        {\"_id\":2,\"Name\":\"Aishu\",\"Place\":\"pkd\",\"Gender\":\"female\",\"Mark\":90,\"Activity_point\":85,\"Department\":\"MCA\"},\n",
    "        {\"_id\":3,\"Name\":\"Chai\",\"Place\":\"ekm\",\"Gender\":\"female\",\"Mark\":80,\"Activity_point\":92,\"Department\":\"Civil\"},\n",
    "        {\"_id\":4,\"Name\":\"Nandhut\",\"Place\":\"tcr\",\"Gender\":\"female\",\"Mark\":95,\"Activity_point\":83,\"Department\":\"MCA\"}]\n",
    "col.insert_many(values)\n",
    "        "
   ]
  },
  {
   "cell_type": "code",
   "execution_count": 7,
   "id": "a4f48126",
   "metadata": {},
   "outputs": [
    {
     "data": {
      "text/plain": [
       "InsertOneResult(5, acknowledged=True)"
      ]
     },
     "execution_count": 7,
     "metadata": {},
     "output_type": "execute_result"
    }
   ],
   "source": [
    "col.insert_one({\"_id\":5,\"Name\":\"anu\",\"Place\":\"palakkd\",\"Gender\":\"Male\",\"Marks\":40,\"Activity_point\":10,\"Department\":\"MCA\"})"
   ]
  },
  {
   "cell_type": "code",
   "execution_count": 4,
   "id": "4ac063a3",
   "metadata": {},
   "outputs": [
    {
     "data": {
      "text/plain": [
       "UpdateResult({'n': 1, 'nModified': 1, 'ok': 1.0, 'updatedExisting': True}, acknowledged=True)"
      ]
     },
     "execution_count": 4,
     "metadata": {},
     "output_type": "execute_result"
    }
   ],
   "source": [
    "col.update_many({\"Mark\":{\"$gt\":90}},\n",
    "                {\"$set\":{\"Activity_point\":100}})"
   ]
  },
  {
   "cell_type": "code",
   "execution_count": 5,
   "id": "6c2c73d4",
   "metadata": {},
   "outputs": [
    {
     "name": "stdout",
     "output_type": "stream",
     "text": [
      "{'Name': 'Chai'}\n"
     ]
    }
   ],
   "source": [
    "for document in col.find({\"Gender\":\"female\",\"Department\":\"Civil\"},{\"Name\":1,\"_id\":0}).sort({\"Marks\":-1}):\n",
    "    print(document)"
   ]
  },
  {
   "cell_type": "code",
   "execution_count": 9,
   "id": "57b98ef5",
   "metadata": {},
   "outputs": [
    {
     "name": "stdout",
     "output_type": "stream",
     "text": [
      "failed students is:1\n"
     ]
    }
   ],
   "source": [
    "total=0\n",
    "for document in col.find({\"Marks\":{\"$lt\":45}},{}):\n",
    "    total=total+1\n",
    "print(f\"failed students is:{total}\")"
   ]
  },
  {
   "cell_type": "code",
   "execution_count": 12,
   "id": "04d91bf4",
   "metadata": {},
   "outputs": [
    {
     "name": "stdout",
     "output_type": "stream",
     "text": [
      "total number of greater than 90 is :1\n"
     ]
    }
   ],
   "source": [
    "total=0\n",
    "for document in col.find({\"Mark\":{\"$gt\":90}},{}):\n",
    "    total=total+1\n",
    "print(f\"total number of greater than 90 is :{total}\")"
   ]
  },
  {
   "cell_type": "code",
   "execution_count": 13,
   "id": "00b5ea5b",
   "metadata": {},
   "outputs": [
    {
     "data": {
      "text/plain": [
       "UpdateResult({'n': 2, 'nModified': 2, 'ok': 1.0, 'updatedExisting': True}, acknowledged=True)"
      ]
     },
     "execution_count": 13,
     "metadata": {},
     "output_type": "execute_result"
    }
   ],
   "source": [
    "col.update_many({\"Activity_point\":{\"$gt\":90}},{\"$set\":{\"Mark\":100}})\n"
   ]
  },
  {
   "cell_type": "code",
   "execution_count": 14,
   "id": "b1b61dec",
   "metadata": {},
   "outputs": [
    {
     "name": "stdout",
     "output_type": "stream",
     "text": [
      "{'_id': 1, 'Name': 'Anjali', 'Place': 'tvm', 'Gender': 'female', 'Mark': 85, 'Activity_point': 90, 'Department': 'MCA'}\n",
      "{'_id': 2, 'Name': 'Aishu', 'Place': 'pkd', 'Gender': 'female', 'Mark': 90, 'Activity_point': 85, 'Department': 'MCA'}\n",
      "{'_id': 3, 'Name': 'Chai', 'Place': 'ekm', 'Gender': 'female', 'Mark': 100, 'Activity_point': 92, 'Department': 'Civil'}\n",
      "{'_id': 4, 'Name': 'Nandhut', 'Place': 'tcr', 'Gender': 'female', 'Mark': 100, 'Activity_point': 100, 'Department': 'MCA'}\n",
      "{'_id': 5, 'Name': 'anu', 'Place': 'palakkd', 'Gender': 'Male', 'Marks': 40, 'Activity_point': 10, 'Department': 'MCA'}\n"
     ]
    }
   ],
   "source": [
    "for document in col.find({}):\n",
    "    print(document)"
   ]
  }
 ],
 "metadata": {
  "kernelspec": {
   "display_name": "Python 3",
   "language": "python",
   "name": "python3"
  },
  "language_info": {
   "codemirror_mode": {
    "name": "ipython",
    "version": 3
   },
   "file_extension": ".py",
   "mimetype": "text/x-python",
   "name": "python",
   "nbconvert_exporter": "python",
   "pygments_lexer": "ipython3",
   "version": "3.13.1"
  }
 },
 "nbformat": 4,
 "nbformat_minor": 5
}
