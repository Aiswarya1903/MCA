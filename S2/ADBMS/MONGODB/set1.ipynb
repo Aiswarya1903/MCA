{
 "cells": [
  {
   "cell_type": "code",
   "execution_count": 1,
   "id": "f9ac1558",
   "metadata": {},
   "outputs": [],
   "source": [
    "import pymongo\n",
    "conn=pymongo.MongoClient(\"mongodb://localhost:27017\")\n",
    "db=conn['exam']\n",
    "col=db['xam']"
   ]
  },
  {
   "cell_type": "code",
   "execution_count": 4,
   "id": "abb36933",
   "metadata": {},
   "outputs": [
    {
     "data": {
      "text/plain": [
       "InsertManyResult([1, 2, 3, 4, 5], acknowledged=True)"
      ]
     },
     "execution_count": 4,
     "metadata": {},
     "output_type": "execute_result"
    }
   ],
   "source": [
    "values=[{\"_id\":1,\"Name\":\"Anjali\",\"Place\":\"Kollam\",\"Phone\":'85826639562',\"vaccination_status\":\"Both vaccinated\",\"RTPCR\":\"negative\",\"lab_mark\":{\"internal\":30,\"external\":45},\"Department\":\"MCA\"},\n",
    "        {\"_id\":2,\"Name\":\"Anuradha\",\"Place\":\"Varkala\",\"Phone\":'9992639562',\"vaccination_status\":\"Both vaccinated\",\"RTPCR\":\"negative\",\"lab_mark\":{\"internal\":40,\"external\":48},\"Department\":\"Civil\"},\n",
    "        {\"_id\":3,\"Name\":\"Bismiya\",\"Place\":\"Kollam\",\"Phone\":\"9446639562\",\"vaccination_status\":\"not vaccinated\",\"RTPCR\":\"positive\",\"lab_mark\":{\"internal\":50,\"external\":39},\"Department\":\"MCA\"},\n",
    "        {\"_id\":4,\"Name\":\"Vimal\",\"Place\":\"Ernakulam\",\"Phone\":\"8582639568\",\"vaccination_status\":\"first dose only\",\"RTPCR\":\"positive\",\"lab_mark\":{\"internal\":40,\"external\":42},\"Department\":\"Civil\"},\n",
    "        {\"_id\":5,\"Name\":\"Vivek\",\"Place\":\"Kollam\",\"Phone\":\"8582639777\",\"vaccination_status\":\"Both vaccinated\",\"RTPCR\":\"negative\",\"lab_mark\":{\"internal\":50,\"external\":50},\"Department\":\"MCA\"}]\n",
    "col.insert_many(values)\n",
    "        "
   ]
  },
  {
   "cell_type": "code",
   "execution_count": 7,
   "id": "b247205d",
   "metadata": {},
   "outputs": [
    {
     "name": "stdout",
     "output_type": "stream",
     "text": [
      "{'Name': 'Anjali', 'Phone': '85826639562'}\n",
      "{'Name': 'Anuradha', 'Phone': '9992639562'}\n",
      "{'Name': 'Vivek', 'Phone': '8582639777'}\n"
     ]
    }
   ],
   "source": [
    "for document in col.find({\"vaccination_status\":\"Both vaccinated\"},{\"Name\":1,\"Phone\":1,\"_id\":0}):\n",
    "    print(document)"
   ]
  },
  {
   "cell_type": "code",
   "execution_count": 10,
   "id": "65eec5d9",
   "metadata": {},
   "outputs": [
    {
     "name": "stdout",
     "output_type": "stream",
     "text": [
      "name:Vivek,phone:8582639777\n",
      "name:Anuradha,phone:9992639562\n"
     ]
    }
   ],
   "source": [
    "for document in col.find().sort({\"lab_mark.external\":-1}).limit(2):\n",
    "    print(f\"name:{document['Name']},phone:{document['Phone']}\")"
   ]
  },
  {
   "cell_type": "code",
   "execution_count": 17,
   "id": "d058a9e6",
   "metadata": {},
   "outputs": [
    {
     "data": {
      "text/plain": [
       "UpdateResult({'n': 1, 'nModified': 1, 'ok': 1.0, 'updatedExisting': True}, acknowledged=True)"
      ]
     },
     "execution_count": 17,
     "metadata": {},
     "output_type": "execute_result"
    }
   ],
   "source": [
    "col.update_one({\"_id\":4},\n",
    "               {\"$set\":{\"vaccination_status\":\"Both vaccinated\"}})\n"
   ]
  },
  {
   "cell_type": "code",
   "execution_count": 20,
   "id": "9da6ac3e",
   "metadata": {},
   "outputs": [
    {
     "name": "stdout",
     "output_type": "stream",
     "text": [
      "{'_id': 4, 'Name': 'Vimal', 'Place': 'Ernakulam', 'Phone': '8582639568', 'vaccination_status': 'Both vaccinated', 'RTPCR': 'positive', 'lab_mark': {'internal': 40, 'external': 42}, 'Department': 'Civil'}\n"
     ]
    }
   ],
   "source": [
    "for document in col.find({\"_id\":4},{}):\n",
    "    print(document)"
   ]
  },
  {
   "cell_type": "code",
   "execution_count": 21,
   "id": "cd911d2d",
   "metadata": {},
   "outputs": [
    {
     "name": "stdout",
     "output_type": "stream",
     "text": [
      "the number of students not vaccinated:1\n"
     ]
    }
   ],
   "source": [
    "count=0\n",
    "for document in col.find({\"vaccination_status\":\"not vaccinated\"}):\n",
    "    count=count+1\n",
    "print(f\"the number of students not vaccinated:{count}\")"
   ]
  },
  {
   "cell_type": "code",
   "execution_count": 22,
   "id": "f238e232",
   "metadata": {},
   "outputs": [
    {
     "name": "stdout",
     "output_type": "stream",
     "text": [
      "{'Name': 'Vivek', 'Phone': '8582639777'}\n",
      "{'Name': 'Anuradha', 'Phone': '9992639562'}\n",
      "{'Name': 'Anjali', 'Phone': '85826639562'}\n",
      "{'Name': 'Vimal', 'Phone': '8582639568'}\n",
      "{'Name': 'Bismiya', 'Phone': '9446639562'}\n"
     ]
    }
   ],
   "source": [
    "for document in col.find({},{\"Name\":1,\"Phone\":1,\"_id\":0}).sort({\"lab_mark.external\":-1}):\n",
    "    print(document)"
   ]
  },
  {
   "cell_type": "code",
   "execution_count": 23,
   "id": "29ce5771",
   "metadata": {},
   "outputs": [
    {
     "name": "stdout",
     "output_type": "stream",
     "text": [
      "{'Name': 'Anjali', 'Department': 'MCA'}\n",
      "{'Name': 'Anuradha', 'Department': 'Civil'}\n"
     ]
    }
   ],
   "source": [
    "for document in col.find({\"Name\":{\"$regex\":\"^A\"}},{\"Name\":1,\"Department\":1,\"_id\":0}):\n",
    "    print(document)"
   ]
  }
 ],
 "metadata": {
  "kernelspec": {
   "display_name": "Python 3",
   "language": "python",
   "name": "python3"
  },
  "language_info": {
   "codemirror_mode": {
    "name": "ipython",
    "version": 3
   },
   "file_extension": ".py",
   "mimetype": "text/x-python",
   "name": "python",
   "nbconvert_exporter": "python",
   "pygments_lexer": "ipython3",
   "version": "3.13.1"
  }
 },
 "nbformat": 4,
 "nbformat_minor": 5
}
