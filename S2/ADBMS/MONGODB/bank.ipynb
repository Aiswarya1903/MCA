{
 "cells": [
  {
   "cell_type": "code",
   "execution_count": 1,
   "id": "1afa26da",
   "metadata": {},
   "outputs": [],
   "source": [
    "import pymongo\n",
    "conn=pymongo.MongoClient(\"mongodb://localhost:27017\")\n",
    "db=conn['bank']\n",
    "col=db['account']"
   ]
  },
  {
   "cell_type": "code",
   "execution_count": 2,
   "id": "464dc4a8",
   "metadata": {},
   "outputs": [
    {
     "data": {
      "text/plain": [
       "InsertManyResult([ObjectId('683dcec80f1d09052e43993b'), ObjectId('683dcec80f1d09052e43993c')], acknowledged=True)"
      ]
     },
     "execution_count": 2,
     "metadata": {},
     "output_type": "execute_result"
    }
   ],
   "source": [
    "values=[{\"id\":1,\n",
    "         \"name\":{\"fname\":\"Aishu\",\"lname\":\"A\"},\n",
    "         \"address\":\"kuppakkad house,kulavanmokku\",\n",
    "         \"phone number\":\"789098723\",\n",
    "         \"aadhar no\":\"890987654123\",\n",
    "         \"branch\":\"coyalmannam\"},\n",
    "        {\"id\":2,\n",
    "         \"name\":{\"fname\":\"misira\",\"lname\":\"k v\"},\n",
    "         \"address\":\"misira manzil kallikkad\",\n",
    "         \"phone number\":[\"9098765784\",\"8905467345\"],\n",
    "         \"aadhar no\":\"678954367812\",\n",
    "         \"branch\":\"kallikkad\"}]\n",
    "col.insert_many(values)"
   ]
  },
  {
   "cell_type": "code",
   "execution_count": 7,
   "id": "8c43089c",
   "metadata": {},
   "outputs": [
    {
     "name": "stdout",
     "output_type": "stream",
     "text": [
      "('misira', 'k v', 'misira manzil kallikkad', ['9098765784', '8905467345'], '678954367812')\n"
     ]
    }
   ],
   "source": [
    "for document in col.find({\"branch\":\"kallikkad\"},{}):\n",
    "    print(f\"{document['name']['fname'],document['name']['lname'],document['address'],document['phone number'],document['aadhar no']}\")"
   ]
  },
  {
   "cell_type": "code",
   "execution_count": 10,
   "id": "b9a3f432",
   "metadata": {},
   "outputs": [
    {
     "name": "stdout",
     "output_type": "stream",
     "text": [
      "{'_id': ObjectId('683dcec80f1d09052e43993b'), 'id': 1, 'name': {'fname': 'Aishu', 'lname': 'Achu'}, 'address': 'kuppakkad house,kulavanmokku', 'phone number': '789098723', 'aadhar no': '890987654123', 'branch': 'coyalmannam'}\n",
      "{'_id': ObjectId('683dcec80f1d09052e43993c'), 'id': 2, 'name': {'fname': 'misira', 'lname': 'k v'}, 'address': 'misira manzil kallikkad', 'phone number': ['9098765784', '8905467345'], 'aadhar no': '678954367812', 'branch': 'kallikkad'}\n"
     ]
    }
   ],
   "source": [
    "col.update_one({\"phone number\":\"789098723\"},\n",
    "               {\"$set\":{\"name.lname\":\"Achu\"}})\n",
    "\n",
    "for document in col.find({}):\n",
    "    print(document)\n",
    "    "
   ]
  },
  {
   "cell_type": "code",
   "execution_count": 12,
   "id": "9e0cbf1d",
   "metadata": {},
   "outputs": [
    {
     "name": "stdout",
     "output_type": "stream",
     "text": [
      "{'name': {'fname': 'misira', 'lname': 'k v'}}\n"
     ]
    }
   ],
   "source": [
    "for document in col.find({\"branch\":\"kallikkad\"},{\"name\":1,\"_id\":0}):\n",
    "    print(document)"
   ]
  }
 ],
 "metadata": {
  "kernelspec": {
   "display_name": "Python 3",
   "language": "python",
   "name": "python3"
  },
  "language_info": {
   "codemirror_mode": {
    "name": "ipython",
    "version": 3
   },
   "file_extension": ".py",
   "mimetype": "text/x-python",
   "name": "python",
   "nbconvert_exporter": "python",
   "pygments_lexer": "ipython3",
   "version": "3.13.1"
  }
 },
 "nbformat": 4,
 "nbformat_minor": 5
}
