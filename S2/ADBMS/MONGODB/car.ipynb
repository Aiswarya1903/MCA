{
 "cells": [
  {
   "cell_type": "code",
   "execution_count": 1,
   "id": "8eeb11b5",
   "metadata": {},
   "outputs": [],
   "source": [
    "import pymongo"
   ]
  },
  {
   "cell_type": "code",
   "execution_count": 3,
   "id": "19cbca16",
   "metadata": {},
   "outputs": [],
   "source": [
    "conn=pymongo.MongoClient(\"mongodb://localhost:27017\")\n",
    "db=conn[\"cars\"]\n",
    "col=db['carukal']"
   ]
  },
  {
   "cell_type": "code",
   "execution_count": 31,
   "id": "b05b58f6",
   "metadata": {},
   "outputs": [
    {
     "data": {
      "text/plain": [
       "InsertManyResult([ObjectId('683d7dcd13367fb6db6ceb1f'), ObjectId('683d7dcd13367fb6db6ceb20'), ObjectId('683d7dcd13367fb6db6ceb21'), ObjectId('683d7dcd13367fb6db6ceb22')], acknowledged=True)"
      ]
     },
     "execution_count": 31,
     "metadata": {},
     "output_type": "execute_result"
    }
   ],
   "source": [
    "\n",
    "values=[{\"name\":\"Audi\",\"price\":20000},\n",
    "        {\"name\":\"volvo\",\"price\":20000},\n",
    "        {\"name\":\"swift\",\"price\":8000},\n",
    "        {\"name\":\"Benz\",\"price\":100000}]\n",
    "col.insert_many(values)\n",
    "\n"
   ]
  },
  {
   "cell_type": "code",
   "execution_count": 46,
   "id": "bcd4b522",
   "metadata": {},
   "outputs": [
    {
     "data": {
      "text/plain": [
       "InsertOneResult(ObjectId('683d82f913367fb6db6ceb23'), acknowledged=True)"
      ]
     },
     "execution_count": 46,
     "metadata": {},
     "output_type": "execute_result"
    }
   ],
   "source": [
    "col.insert_one({\"name\":\"BE6\",\"price\":10000})"
   ]
  },
  {
   "cell_type": "code",
   "execution_count": 47,
   "id": "5eaa2a5d",
   "metadata": {},
   "outputs": [
    {
     "name": "stdout",
     "output_type": "stream",
     "text": [
      "('Audi', 20000)\n",
      "('volvo', 20000)\n",
      "('swift', 8000)\n",
      "('Benz', 100000)\n",
      "('BE6', 10000)\n"
     ]
    }
   ],
   "source": [
    "for document in col.find({},{\"name\":1,\"price\":1,\"_id\":0}):\n",
    "    print(f\"{document['name'],document['price']}\")"
   ]
  },
  {
   "cell_type": "code",
   "execution_count": 33,
   "id": "562d52c4",
   "metadata": {},
   "outputs": [
    {
     "name": "stdout",
     "output_type": "stream",
     "text": [
      "total cars:4\n"
     ]
    }
   ],
   "source": [
    "total=col.count_documents({})\n",
    "print(f\"total cars:{total}\")"
   ]
  },
  {
   "cell_type": "code",
   "execution_count": null,
   "id": "b618471e",
   "metadata": {},
   "outputs": [],
   "source": []
  },
  {
   "cell_type": "code",
   "execution_count": 34,
   "id": "c47eb2a8",
   "metadata": {},
   "outputs": [
    {
     "name": "stdout",
     "output_type": "stream",
     "text": [
      "name:Benz\n"
     ]
    }
   ],
   "source": [
    "for document in col.find({\"price\":{\"$gt\":50000}}):\n",
    "    print(f\"name:{document['name']}\")"
   ]
  },
  {
   "cell_type": "code",
   "execution_count": 45,
   "id": "bfda180e",
   "metadata": {},
   "outputs": [
    {
     "name": "stdout",
     "output_type": "stream",
     "text": [
      "Benz,100000\n",
      "Audi,20000\n",
      "volvo,20000\n",
      "swift,8000\n"
     ]
    }
   ],
   "source": [
    "for document in col.find().sort({\"price\":-1}):\n",
    "    print(f\"{document['name']},{document['price']}\")"
   ]
  },
  {
   "cell_type": "code",
   "execution_count": 49,
   "id": "a980c572",
   "metadata": {},
   "outputs": [
    {
     "name": "stdout",
     "output_type": "stream",
     "text": [
      "Benz,100000\n",
      "BE6,10000\n"
     ]
    }
   ],
   "source": [
    "for document in col.find().skip(3).limit(2):\n",
    "    print(f\"{document['name']},{document['price']}\")"
   ]
  }
 ],
 "metadata": {
  "kernelspec": {
   "display_name": "Python 3",
   "language": "python",
   "name": "python3"
  },
  "language_info": {
   "codemirror_mode": {
    "name": "ipython",
    "version": 3
   },
   "file_extension": ".py",
   "mimetype": "text/x-python",
   "name": "python",
   "nbconvert_exporter": "python",
   "pygments_lexer": "ipython3",
   "version": "3.13.1"
  }
 },
 "nbformat": 4,
 "nbformat_minor": 5
}
