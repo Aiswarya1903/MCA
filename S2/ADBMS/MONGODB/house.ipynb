{
 "cells": [
  {
   "cell_type": "code",
   "execution_count": 2,
   "id": "511c496d",
   "metadata": {},
   "outputs": [],
   "source": [
    "import pymongo"
   ]
  },
  {
   "cell_type": "code",
   "execution_count": 4,
   "id": "2ddbf6d8",
   "metadata": {},
   "outputs": [],
   "source": [
    "conn=pymongo.MongoClient(\"mongodb://localhost:27017\")\n",
    "db=conn['house']\n",
    "col=db['owner']\n",
    "col1=db['customer']"
   ]
  },
  {
   "cell_type": "code",
   "execution_count": 5,
   "id": "d7805c6d",
   "metadata": {},
   "outputs": [
    {
     "data": {
      "text/plain": [
       "InsertManyResult([ObjectId('683dc903bd6617e0648b19bb'), ObjectId('683dc903bd6617e0648b19bc')], acknowledged=True)"
      ]
     },
     "execution_count": 5,
     "metadata": {},
     "output_type": "execute_result"
    }
   ],
   "source": [
    "values=[{\"id\":1,\"name\":{\"fname\":\"Aiswarya\",\"lname\":\"A\"},\n",
    "         \"address\":[\n",
    "            {\"hname\":\"sree\",\"street\":\"chavadimokku\",\"city\":\"sreekaryam\"},\n",
    "            {\"hname\":\"laya\",\"street\":\"chithali\",\"city\":\"kuzhalmannam\"}]},\n",
    "        {\"id\":2,\"name\":{\"fname\":\"K.V\",\"lname\":\"Misira\"},\n",
    "         \"address\":[\n",
    "             {\"hname\":\"misira\",\"street\":\"Kallikkad\",\"city\":\"palakkad\"},\n",
    "             {\"hname\":\"manzil\",\"street\":\"thenikkara\",\"city\":\"ernakulam\"}\n",
    "         ]}]\n",
    "col.insert_many(values)"
   ]
  },
  {
   "cell_type": "code",
   "execution_count": 16,
   "id": "2c5fa8e2",
   "metadata": {},
   "outputs": [
    {
     "data": {
      "text/plain": [
       "UpdateResult({'n': 1, 'nModified': 1, 'ok': 1.0, 'updatedExisting': True}, acknowledged=True)"
      ]
     },
     "execution_count": 16,
     "metadata": {},
     "output_type": "execute_result"
    }
   ],
   "source": [
    "col.update_one({\"address.street\":\"Kallikkad\"},\n",
    "               {\"$set\":{\"address.$.hname\":\"pookie\"}})"
   ]
  },
  {
   "cell_type": "code",
   "execution_count": 17,
   "id": "7ee6df27",
   "metadata": {},
   "outputs": [
    {
     "name": "stdout",
     "output_type": "stream",
     "text": [
      "{'_id': ObjectId('683dc903bd6617e0648b19bb'), 'id': 1, 'name': {'fname': 'Aiswarya', 'lname': 'A'}, 'address': [{'hname': 'sree', 'street': 'chavadimokku', 'city': 'sreekaryam'}, {'hname': 'love date', 'street': 'chithali', 'city': 'kuzhalmannam'}]}\n",
      "{'_id': ObjectId('683dc903bd6617e0648b19bc'), 'id': 2, 'name': {'fname': 'K.V', 'lname': 'Misira'}, 'address': [{'hname': 'pookie', 'street': 'Kallikkad', 'city': 'palakkad'}, {'hname': 'manzil', 'street': 'thenikkara', 'city': 'ernakulam'}]}\n"
     ]
    }
   ],
   "source": [
    "for document in col.find({}):\n",
    "    print(document)"
   ]
  },
  {
   "cell_type": "code",
   "execution_count": 7,
   "id": "c1ef170f",
   "metadata": {},
   "outputs": [
    {
     "name": "stdout",
     "output_type": "stream",
     "text": [
      "{'fname': 'Aiswarya', 'lname': 'A'},[{'hname': 'sree', 'street': 'chavadimokku', 'city': 'sreekaryam'}, {'hname': 'laya', 'street': 'chithali', 'city': 'kuzhalmannam'}]\n"
     ]
    }
   ],
   "source": [
    "for document in col.find({\"name.fname\":\"Aiswarya\"}):\n",
    "    print(f\"{document['name']},{document['address']}\")"
   ]
  },
  {
   "cell_type": "code",
   "execution_count": 11,
   "id": "25efab17",
   "metadata": {},
   "outputs": [
    {
     "data": {
      "text/plain": [
       "UpdateResult({'n': 0, 'nModified': 0, 'ok': 1.0, 'updatedExisting': False}, acknowledged=True)"
      ]
     },
     "execution_count": 11,
     "metadata": {},
     "output_type": "execute_result"
    }
   ],
   "source": [
    "col.update_one({\"name.fname\":\"Aiswarya\",\"address.street\":\"chitali\"},\n",
    "               {\"$set\":{\"address.$.hname\":\"love date\"}})"
   ]
  },
  {
   "cell_type": "code",
   "execution_count": 12,
   "id": "4238f953",
   "metadata": {},
   "outputs": [
    {
     "name": "stdout",
     "output_type": "stream",
     "text": [
      "{'name': {'fname': 'Aiswarya', 'lname': 'A'}, 'address': [{'hname': 'sree', 'street': 'chavadimokku', 'city': 'sreekaryam'}, {'hname': 'love date', 'street': 'chithali', 'city': 'kuzhalmannam'}]}\n",
      "{'name': {'fname': 'K.V', 'lname': 'Misira'}, 'address': [{'hname': 'misira', 'street': 'Kallikkad', 'city': 'palakkad'}, {'hname': 'manzil', 'street': 'thenikkara', 'city': 'ernakulam'}]}\n"
     ]
    }
   ],
   "source": [
    "for document in col.find({},{\"name\":1,\"address\":1,\"_id\":0}):\n",
    "    print(document)"
   ]
  }
 ],
 "metadata": {
  "kernelspec": {
   "display_name": "Python 3",
   "language": "python",
   "name": "python3"
  },
  "language_info": {
   "codemirror_mode": {
    "name": "ipython",
    "version": 3
   },
   "file_extension": ".py",
   "mimetype": "text/x-python",
   "name": "python",
   "nbconvert_exporter": "python",
   "pygments_lexer": "ipython3",
   "version": "3.13.1"
  }
 },
 "nbformat": 4,
 "nbformat_minor": 5
}
