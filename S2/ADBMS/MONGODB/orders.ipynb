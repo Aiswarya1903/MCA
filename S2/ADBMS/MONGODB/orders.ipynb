{
 "cells": [
  {
   "cell_type": "code",
   "execution_count": 2,
   "id": "96a690d3",
   "metadata": {},
   "outputs": [],
   "source": [
    "import pymongo\n",
    "conn=pymongo.MongoClient(\"mongodb://localhost:27017\")\n",
    "db=conn['orders']\n",
    "col=db['ord']"
   ]
  },
  {
   "cell_type": "code",
   "execution_count": 3,
   "id": "4d58b02e",
   "metadata": {},
   "outputs": [
    {
     "data": {
      "text/plain": [
       "InsertManyResult([ObjectId('683dd85284ffe5cd36280b91'), ObjectId('683dd85284ffe5cd36280b92')], acknowledged=True)"
      ]
     },
     "execution_count": 3,
     "metadata": {},
     "output_type": "execute_result"
    }
   ],
   "source": [
    "\n",
    "values=[{\"id\":\"01\",\"year\":2023,\n",
    "         \"cost\":{\"price\":1500,\"currency\":\"USD\"},\n",
    "         \"items\":[\n",
    "             {\"product_id\":\"p1\",\"colours\":[\"red\",\"blue\"],\"quantity\":10},\n",
    "             {\"product_id\":\"p2\",\"colours\":[\"pink\",\"green\"],\"quantity\":10}],\n",
    "         \"no_of_days\":2,\"status\":\"paid\"},\n",
    "        {\"id\":\"02\",\"year\":2024,\n",
    "         \"cost\":{\"price\":1000,\"currency\":\"Euro\"},\n",
    "         \"items\":[\n",
    "             {\"product_id\":\"p1\",\"colours\":[\"green\",\"orange\"],\"quantity\":1},\n",
    "             {\"product_id\":\"p3\",\"colours\":[\"red\",\"blue\"],\"quantity\":2}],\n",
    "         \"no_of_days\":3,\"status\":\"paid\"}]\n",
    "col.insert_many(values)\n"
   ]
  },
  {
   "cell_type": "code",
   "execution_count": 8,
   "id": "88693e26",
   "metadata": {},
   "outputs": [
    {
     "data": {
      "text/plain": [
       "InsertOneResult(ObjectId('683ddb7384ffe5cd36280b93'), acknowledged=True)"
      ]
     },
     "execution_count": 8,
     "metadata": {},
     "output_type": "execute_result"
    }
   ],
   "source": [
    "col.insert_one({\"id\":\"03\",\"year\":2023,\n",
    "         \"cost\":{\"price\":10,\"currency\":\"Euro\"},\n",
    "         \"items\":[\n",
    "             {\"product_id\":\"p1\",\"colours\":[\"red\",\"blue\"],\"quantity\":10},\n",
    "             {\"product_id\":\"p2\",\"colours\":[\"pink\",\"green\"],\"quantity\":10}],\n",
    "         \"no_of_days\":2,\"status\":\"paid\"})"
   ]
  },
  {
   "cell_type": "code",
   "execution_count": 14,
   "id": "cf4d2d31",
   "metadata": {},
   "outputs": [
    {
     "name": "stdout",
     "output_type": "stream",
     "text": [
      "{'id': '01', 'cost': {'price': 1500, 'currency': 'USD'}, 'items': [{'product_id': 'p1', 'colours': ['red', 'blue'], 'quantity': 10}, {'product_id': 'p2', 'colours': ['pink', 'green'], 'quantity': 10}], 'no_of_days': 2, 'status': 'paid'}\n",
      "{'id': '02', 'cost': {'price': 1000, 'currency': 'Euro'}, 'items': [{'product_id': 'p1', 'colours': ['green', 'orange'], 'quantity': 1}, {'product_id': 'p3', 'colours': ['red', 'blue'], 'quantity': 2}], 'no_of_days': 3, 'status': 'paid'}\n",
      "{'id': '03', 'cost': {'price': 10, 'currency': 'Euro'}, 'items': [{'product_id': 'p1', 'colours': ['red', 'blue'], 'quantity': 10}, {'product_id': 'p2', 'colours': ['pink', 'green'], 'quantity': 10}], 'no_of_days': 2, 'status': 'paid'}\n"
     ]
    }
   ],
   "source": [
    "for document in col.find({},{\"id\":1,\"cost\":1,\"items\":1,\"no_of_days\":1,\"status\":1,\"_id\":0}):\n",
    "    print(document)"
   ]
  },
  {
   "cell_type": "code",
   "execution_count": 13,
   "id": "8020db3d",
   "metadata": {},
   "outputs": [
    {
     "name": "stdout",
     "output_type": "stream",
     "text": [
      "{'_id': ObjectId('683ddb7384ffe5cd36280b93'), 'id': '03', 'year': 2023, 'cost': {'price': 10, 'currency': 'Euro'}, 'items': [{'product_id': 'p1', 'colours': ['red', 'blue'], 'quantity': 10}, {'product_id': 'p2', 'colours': ['pink', 'green'], 'quantity': 10}], 'no_of_days': 2, 'status': 'paid'}\n"
     ]
    }
   ],
   "source": [
    "for document in col.find({\"cost.price\":{\"$lt\":18},\"cost.currency\":\"Euro\"}):\n",
    "    print(document)"
   ]
  },
  {
   "cell_type": "code",
   "execution_count": 12,
   "id": "bf9f9e89",
   "metadata": {},
   "outputs": [
    {
     "name": "stdout",
     "output_type": "stream",
     "text": [
      "{'_id': ObjectId('683dd85284ffe5cd36280b91'), 'id': '01', 'year': 2023, 'cost': {'price': 1500, 'currency': 'USD'}, 'items': [{'product_id': 'p1', 'colours': ['red', 'blue'], 'quantity': 10}, {'product_id': 'p2', 'colours': ['pink', 'green'], 'quantity': 10}], 'no_of_days': 2, 'status': 'paid'}\n",
      "{'_id': ObjectId('683ddb7384ffe5cd36280b93'), 'id': '03', 'year': 2023, 'cost': {'price': 10, 'currency': 'Euro'}, 'items': [{'product_id': 'p1', 'colours': ['red', 'blue'], 'quantity': 10}, {'product_id': 'p2', 'colours': ['pink', 'green'], 'quantity': 10}], 'no_of_days': 2, 'status': 'paid'}\n"
     ]
    }
   ],
   "source": [
    "for document in col.find({\"items.product_id\":\"p2\"}):\n",
    "    print(document)"
   ]
  },
  {
   "cell_type": "code",
   "execution_count": 17,
   "id": "e2a3152b",
   "metadata": {},
   "outputs": [
    {
     "name": "stdout",
     "output_type": "stream",
     "text": [
      "{'_id': ObjectId('683dd85284ffe5cd36280b92'), 'id': '02', 'year': 2024, 'cost': {'price': 1000, 'currency': 'Euro'}, 'items': [{'product_id': 'p1', 'colours': ['green', 'orange'], 'quantity': 1}, {'product_id': 'p3', 'colours': ['red', 'blue'], 'quantity': 2}], 'no_of_days': 3, 'status': 'paid'}\n"
     ]
    }
   ],
   "source": [
    "for document in col.find({\"items.quantity\":{\"$lt\":10}}):\n",
    "    print(document)"
   ]
  },
  {
   "cell_type": "code",
   "execution_count": 19,
   "id": "c621cfa4",
   "metadata": {},
   "outputs": [
    {
     "name": "stdout",
     "output_type": "stream",
     "text": [
      "{'id': '01', 'year': 2023, 'cost': {'price': 1500, 'currency': 'USD'}, 'items': [{'product_id': 'p1', 'colours': ['red', 'blue'], 'quantity': 10}, {'product_id': 'p2', 'colours': ['pink', 'green'], 'quantity': 10}], 'no_of_days': 2, 'status': 'paid'}\n",
      "{'id': '02', 'year': 2024, 'cost': {'price': 1000, 'currency': 'Euro'}, 'items': [{'product_id': 'p1', 'colours': ['green', 'orange'], 'quantity': 1}, {'product_id': 'p3', 'colours': ['red', 'blue'], 'quantity': 2}], 'no_of_days': 3, 'status': 'paid'}\n",
      "{'id': '03', 'year': 2023, 'cost': {'price': 10, 'currency': 'Euro'}, 'items': [{'product_id': 'p1', 'colours': ['red', 'blue'], 'quantity': 10}, {'product_id': 'p2', 'colours': ['pink', 'green'], 'quantity': 10}], 'no_of_days': 2, 'status': 'paid'}\n"
     ]
    }
   ],
   "source": [
    "for document in col.find({\"status\":\"paid\"},{\"_id\":0}):\n",
    "    print(document)"
   ]
  },
  {
   "cell_type": "code",
   "execution_count": 23,
   "id": "7bb98294",
   "metadata": {},
   "outputs": [
    {
     "name": "stdout",
     "output_type": "stream",
     "text": [
      "{'_id': ObjectId('683dd85284ffe5cd36280b91'), 'id': '01', 'year': 2023, 'cost': {'price': 1500, 'currency': 'USD'}, 'items': [{'product_id': 'p1', 'colours': ['red', 'blue'], 'quantity': 10}, {'product_id': 'p2', 'colours': ['pink', 'green'], 'quantity': 10}], 'no_of_days': 2, 'status': 'paid'}\n",
      "{'_id': ObjectId('683ddb7384ffe5cd36280b93'), 'id': '03', 'year': 2023, 'cost': {'price': 10, 'currency': 'Euro'}, 'items': [{'product_id': 'p1', 'colours': ['red', 'blue'], 'quantity': 10}, {'product_id': 'p2', 'colours': ['pink', 'green'], 'quantity': 10}], 'no_of_days': 2, 'status': 'paid'}\n"
     ]
    }
   ],
   "source": [
    "for document in col.find({\"year\":{\"$lt\":2024}}):\n",
    "    print(document)"
   ]
  },
  {
   "cell_type": "code",
   "execution_count": 26,
   "id": "f8325f1f",
   "metadata": {},
   "outputs": [
    {
     "name": "stdout",
     "output_type": "stream",
     "text": [
      "{'_id': ObjectId('683dd85284ffe5cd36280b92'), 'id': '02', 'year': 2024, 'cost': {'price': 1000, 'currency': 'Euro'}, 'items': [{'product_id': 'p1', 'colours': ['green', 'orange'], 'quantity': 1}, {'product_id': 'p3', 'colours': ['red', 'blue'], 'quantity': 2}], 'no_of_days': 3, 'status': 'paid'}\n",
      "{'_id': ObjectId('683ddb7384ffe5cd36280b93'), 'id': '03', 'year': 2023, 'cost': {'price': 10, 'currency': 'Euro'}, 'items': [{'product_id': 'p1', 'colours': ['red', 'blue'], 'quantity': 10}, {'product_id': 'p2', 'colours': ['pink', 'green'], 'quantity': 10}], 'no_of_days': 2, 'status': 'paid'}\n"
     ]
    }
   ],
   "source": [
    "for document in col.find({\"cost.currency\":\"Euro\"}):\n",
    "    print(document)"
   ]
  }
 ],
 "metadata": {
  "kernelspec": {
   "display_name": "Python 3",
   "language": "python",
   "name": "python3"
  },
  "language_info": {
   "codemirror_mode": {
    "name": "ipython",
    "version": 3
   },
   "file_extension": ".py",
   "mimetype": "text/x-python",
   "name": "python",
   "nbconvert_exporter": "python",
   "pygments_lexer": "ipython3",
   "version": "3.13.1"
  }
 },
 "nbformat": 4,
 "nbformat_minor": 5
}
