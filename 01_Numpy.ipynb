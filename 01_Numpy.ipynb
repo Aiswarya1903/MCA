{
 "cells": [
  {
   "cell_type": "code",
   "execution_count": 2,
   "id": "d28066d9",
   "metadata": {},
   "outputs": [],
   "source": [
    "import numpy as np;"
   ]
  },
  {
   "cell_type": "code",
   "execution_count": 4,
   "id": "32a7c85f",
   "metadata": {},
   "outputs": [
    {
     "name": "stdout",
     "output_type": "stream",
     "text": [
      "Farenheit [37.77777778 36.88888889 35.83333333 34.55555556 33.11111111]\n"
     ]
    }
   ],
   "source": [
    "#1. NumPy program to convert Fahrenheit degree to centigrade degree.\n",
    "farenheit=np.array([100,98.4,96.5,94.2,91.6])\n",
    "degree=np.array([])\n",
    "for i in farenheit:\n",
    "    c=(i-32)*5/9\n",
    "    #np.append(arr, values)\n",
    "    degree=np.append(degree,c)\n",
    "print(\"Farenheit\",degree)\n",
    "    "
   ]
  },
  {
   "cell_type": "code",
   "execution_count": 6,
   "id": "7d7919a0",
   "metadata": {},
   "outputs": [
    {
     "name": "stdout",
     "output_type": "stream",
     "text": [
      "Mean: 30.0 Variance: 200.0 Standard deviation: 14.142135623730951\n"
     ]
    }
   ],
   "source": [
    "#2.  create a random array with 1000 elements and compute the \n",
    "# average, variance, standard deviation of the array elements\n",
    "arr=np.array([10,20,30,40,50])\n",
    "mean=arr.mean()\n",
    "var=arr.var()\n",
    "std=arr.std()\n",
    "print(\"Mean:\",mean,\"Variance:\",var,\"Standard deviation:\",std)"
   ]
  },
  {
   "cell_type": "code",
   "execution_count": 7,
   "id": "58909339",
   "metadata": {},
   "outputs": [
    {
     "name": "stdout",
     "output_type": "stream",
     "text": [
      "Degrees: [ 98.   95.4 101. ]\n",
      "radians: [1.71042267 1.66504411 1.76278254]\n"
     ]
    }
   ],
   "source": [
    "# 3. NumPy program to convert angles from degrees to radians for all elements in a \n",
    "# given array\n",
    "degree=np.array([98.0,95.4,101])\n",
    "rad=np.deg2rad(degree)\n",
    "print(\"Degrees:\",degree)\n",
    "print(\"radians:\",rad)"
   ]
  },
  {
   "cell_type": "code",
   "execution_count": 10,
   "id": "868f7e8b",
   "metadata": {},
   "outputs": [
    {
     "name": "stdout",
     "output_type": "stream",
     "text": [
      "Array: [[22 19 15 11 20 17 38 16 32 15]]\n",
      "Diff: [[ -3  -4  -4   9  -3  21 -22  16 -17]]\n"
     ]
    }
   ],
   "source": [
    "# 4.NumPy program to calculate the difference between neighbouring elements, \n",
    "# element-wise of a given array.\n",
    "arr=np.array([np.random.randint(10,40,10)])\n",
    "diff=np.diff(arr)\n",
    "print(\"Array:\",arr)\n",
    "print(\"Diff:\",diff)"
   ]
  },
  {
   "cell_type": "code",
   "execution_count": 11,
   "id": "60ab34de",
   "metadata": {},
   "outputs": [
    {
     "name": "stdout",
     "output_type": "stream",
     "text": [
      "Array before sorting: [ 7.+5.j  4.+3.j 12.+2.j  1.+8.j  1.+9.j]\n",
      "array after sorting: [ 1.+8.j  1.+9.j  4.+3.j  7.+5.j 12.+2.j]\n"
     ]
    }
   ],
   "source": [
    "# 5.NumPy program to sort a given complex array using the real part first, then the \n",
    "# imaginary part.\n",
    "arr = np.array([complex(7,5),complex(4,3),complex(12,2),complex(1,8),complex(1,9)])\n",
    "sort=np.sort(arr)\n",
    "print(\"Array before sorting:\",arr)\n",
    "print(\"array after sorting:\",sort)"
   ]
  },
  {
   "cell_type": "code",
   "execution_count": 14,
   "id": "c18d70e3",
   "metadata": {},
   "outputs": [
    {
     "name": "stdout",
     "output_type": "stream",
     "text": [
      "[ 38  17  -2  29  17 -21  38 -27  14   9]\n",
      "Elements greater than 4\n",
      "[38 17 29 17 38 14  9]\n"
     ]
    }
   ],
   "source": [
    "#  6.NumPy program to create a 1D array with random numbers and print the values \n",
    "# greater than 4\n",
    "arr=np.random.randint(low=-40,high=40,size=10)\n",
    "print(arr)\n",
    "res =np.where(arr > 4)\n",
    "print(\"Elements greater than 4\")\n",
    "for ele in res:\n",
    "    print(arr[res])"
   ]
  }
 ],
 "metadata": {
  "kernelspec": {
   "display_name": "Python 3",
   "language": "python",
   "name": "python3"
  },
  "language_info": {
   "codemirror_mode": {
    "name": "ipython",
    "version": 3
   },
   "file_extension": ".py",
   "mimetype": "text/x-python",
   "name": "python",
   "nbconvert_exporter": "python",
   "pygments_lexer": "ipython3",
   "version": "3.13.5"
  }
 },
 "nbformat": 4,
 "nbformat_minor": 5
}
